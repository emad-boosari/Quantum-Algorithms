{
 "cells": [
  {
   "cell_type": "markdown",
   "metadata": {
    "slideshow": {
     "slide_type": "slide"
    }
   },
   "source": [
    "# Deutsch Algorithm"
   ]
  },
  {
   "cell_type": "code",
   "execution_count": 1,
   "metadata": {},
   "outputs": [],
   "source": [
    "from qiskit import QuantumCircuit, QuantumRegister,ClassicalRegister"
   ]
  },
  {
   "cell_type": "code",
   "execution_count": 2,
   "metadata": {},
   "outputs": [],
   "source": [
    "def cplot(circuit):\n",
    "    return circuit.draw('mpl', scale=0.7, initial_state= True)\n",
    " \n",
    "from qiskit.quantum_info import Statevector\n",
    "def splot(state):\n",
    "    return Statevector(state).draw('latex') "
   ]
  },
  {
   "cell_type": "code",
   "execution_count": 3,
   "metadata": {},
   "outputs": [
    {
     "data": {
      "image/png": "[encoded data removed]",
      "text/plain": [
       "<Figure size 168.56x198.994 with 1 Axes>"
      ]
     },
     "metadata": {},
     "output_type": "display_data"
    },
    {
     "data": {
      "text/latex": [
       "$$ |00\\rangle$$"
      ],
      "text/plain": [
       "<IPython.core.display.Latex object>"
      ]
     },
     "metadata": {},
     "output_type": "display_data"
    }
   ],
   "source": [
    "q = QuantumRegister(2)\n",
    "c = ClassicalRegister(1)\n",
    "qc = QuantumCircuit(q,c)\n",
    "display(cplot(qc),splot(qc))"
   ]
  },
  {
   "cell_type": "code",
   "execution_count": 4,
   "metadata": {},
   "outputs": [
    {
     "data": {
      "image/png": "[encoded data removed]",
      "text/plain": [
       "<Figure size 431.935x198.994 with 1 Axes>"
      ]
     },
     "metadata": {},
     "output_type": "display_data"
    },
    {
     "data": {
      "text/latex": [
       "$$\\frac{1}{2} |00\\rangle+\\frac{1}{2} |01\\rangle- \\frac{1}{2} |10\\rangle- \\frac{1}{2} |11\\rangle$$"
      ],
      "text/plain": [
       "<IPython.core.display.Latex object>"
      ]
     },
     "metadata": {},
     "output_type": "display_data"
    }
   ],
   "source": [
    "# prepration of state |-> in order to use phaseKickbacked effect (Ancila qubit)\n",
    "qc.x(q[1])\n",
    "qc.h(q[1])\n",
    "qc.barrier()\n",
    "\n",
    "# Make a superposition of main qubit\n",
    "qc.h(q[0])\n",
    "qc.barrier()\n",
    "display(cplot(qc),splot(qc))"
   ]
  },
  {
   "cell_type": "markdown",
   "metadata": {},
   "source": [
    "## Build a random function\n",
    "\n",
    "### Constant function\n",
    "1. $ f(0)=f(1)=0 $ \n",
    "\n",
    "2. $ f(0)=f(1)=1 $\n",
    "\n",
    "###  Balanced function \n",
    "3. $f(0)=0$ and $f(1)=1 $\n",
    "\n",
    "4. $f(0)=1$ and $f(1)=0 $"
   ]
  },
  {
   "cell_type": "markdown",
   "metadata": {},
   "source": [
    "## How can we build Deutsch function in Qiskit?\n",
    "\n",
    "Official definition of $U_{f(x)}$ is the following equation:\n",
    "\n",
    "$$U_f|x\\rangle|y\\rangle=|x\\rangle|y \\oplus\tf(x)\\rangle$$\n",
    "\n",
    "How we can implement this general unitary function by using the quantum gates?\n",
    "\n",
    "Let me consider $4$ above functions:\n",
    "\n",
    "## First function\n",
    "\n",
    "\n",
    "#### $ f(0)=f(1)=0 $ \n",
    "\n",
    " - $U_f|00\\rangle =|0\\rangle|0 \\oplus\tf(0)\\rangle=|00\\rangle$,\n",
    " - $U_f|01\\rangle =|0\\rangle|1 \\oplus\tf(0)\\rangle=|01\\rangle$,\n",
    " - $U_f|10\\rangle =|1\\rangle|0 \\oplus\tf(1)\\rangle=|10\\rangle$,\n",
    " - $U_f|11\\rangle =|1\\rangle|1 \\oplus\tf(1)\\rangle=|11\\rangle$.\n",
    " \n",
    "based on the input and output states we can see the $U_f$ is just a unitary function. But for the $2$nd case"
   ]
  },
  {
   "cell_type": "markdown",
   "metadata": {},
   "source": [
    "## Second Function"
   ]
  },
  {
   "cell_type": "markdown",
   "metadata": {},
   "source": [
    "#### $ f(0)=f(1)=1 $ \n",
    "\n",
    " - $U_f|00\\rangle =|0\\rangle|0 \\oplus\tf(0)\\rangle=|01\\rangle$,\n",
    " - $U_f|01\\rangle =|0\\rangle|1 \\oplus\tf(0)\\rangle=|00\\rangle$,\n",
    " - $U_f|10\\rangle =|1\\rangle|0 \\oplus\tf(1)\\rangle=|11\\rangle$,\n",
    " - $U_f|11\\rangle =|1\\rangle|1 \\oplus\tf(1)\\rangle=|10\\rangle$."
   ]
  },
  {
   "cell_type": "markdown",
   "metadata": {},
   "source": [
    "## First way"
   ]
  },
  {
   "cell_type": "code",
   "execution_count": 5,
   "metadata": {},
   "outputs": [
    {
     "data": {
      "image/png": "[encoded data removed]",
      "text/plain": [
       "<Figure size 419.315x140.467 with 1 Axes>"
      ]
     },
     "execution_count": 5,
     "metadata": {},
     "output_type": "execute_result"
    }
   ],
   "source": [
    "# we can implement $U_f$ by using two $U_CNOT$ gates. like below\n",
    "Ug1 = QuantumCircuit(2)\n",
    "# for states |10> and |11> \n",
    "Ug1.cx(0,1)\n",
    "Ug1.barrier()\n",
    "\n",
    "#for states |00> and |01> to |01> and |00>  \n",
    "Ug1.x(0)\n",
    "Ug1.cx(0,1)\n",
    "Ug1.x(0)\n",
    "cplot(Ug1)"
   ]
  },
  {
   "cell_type": "markdown",
   "metadata": {},
   "source": [
    "### Extra hint:\n",
    "\n",
    "We can use $U_{CNOT} (I \\otimes X)$ rather than $(X\\otimes I) U_{CNOT} (X\\otimes I)$. In the following you can see the circuit of this alternative gate"
   ]
  },
  {
   "cell_type": "code",
   "execution_count": 6,
   "metadata": {},
   "outputs": [
    {
     "data": {
      "image/png": "[encoded data removed]",
      "text/plain": [
       "<Figure size 477.843x140.467 with 1 Axes>"
      ]
     },
     "execution_count": 6,
     "metadata": {},
     "output_type": "execute_result"
    }
   ],
   "source": [
    "# we can implement $U_f$ by using two $U_CNOT$ gates. like below\n",
    "Ug1_alter = QuantumCircuit(2)\n",
    "#for states |00> and |01> to |01> and |00>  \n",
    "Ug1_alter.x(0)\n",
    "Ug1_alter.cx(0,1)\n",
    "Ug1_alter.x(0)\n",
    "Ug1_alter.barrier()\n",
    "\n",
    "# its alternative is\n",
    "\n",
    "Ug1_alter.cx(0,1)\n",
    "Ug1_alter.x(1)\n",
    "cplot(Ug1_alter)\n"
   ]
  },
  {
   "cell_type": "markdown",
   "metadata": {},
   "source": [
    "## Second way"
   ]
  },
  {
   "cell_type": "code",
   "execution_count": 7,
   "metadata": {},
   "outputs": [
    {
     "data": {
      "image/png": "[encoded data removed]",
      "text/plain": [
       "<Figure size 185.204x140.467 with 1 Axes>"
      ]
     },
     "execution_count": 7,
     "metadata": {},
     "output_type": "execute_result"
    }
   ],
   "source": [
    "# Second way is just using the x gate for the second qubit. Please check inputs and outputs\n",
    "Ug2 = QuantumCircuit(2)\n",
    "Ug2.x(1)\n",
    "cplot(Ug2)"
   ]
  },
  {
   "cell_type": "markdown",
   "metadata": {},
   "source": [
    "### Third functin "
   ]
  },
  {
   "cell_type": "markdown",
   "metadata": {},
   "source": [
    "#### $ f(0)=0$ and $f(1)=1 $ \n",
    "\n",
    " - $U_f|00\\rangle =|0\\rangle|0 \\oplus\tf(0)\\rangle=|00\\rangle$,\n",
    " - $U_f|01\\rangle =|0\\rangle|1 \\oplus\tf(0)\\rangle=|01\\rangle$,\n",
    " - $U_f|10\\rangle =|1\\rangle|0 \\oplus\tf(1)\\rangle=|11\\rangle$,\n",
    " - $U_f|11\\rangle =|1\\rangle|1 \\oplus\tf(1)\\rangle=|10\\rangle$.\n",
    "\n",
    "this is exactly equal to use of $U_{CNOT}$."
   ]
  },
  {
   "cell_type": "markdown",
   "metadata": {},
   "source": [
    "## Fourth Function"
   ]
  },
  {
   "cell_type": "markdown",
   "metadata": {},
   "source": [
    "#### $ f(0)=1$ and $f(1)=0 $ \n",
    "\n",
    " - $U_f|00\\rangle =|0\\rangle|0 \\oplus\tf(0)\\rangle=|01\\rangle$,\n",
    " - $U_f|01\\rangle =|0\\rangle|1 \\oplus\tf(0)\\rangle=|00\\rangle$,\n",
    " - $U_f|10\\rangle =|1\\rangle|0 \\oplus\tf(1)\\rangle=|10\\rangle$,\n",
    " - $U_f|11\\rangle =|1\\rangle|1 \\oplus\tf(1)\\rangle=|11\\rangle$.\n",
    "\n",
    "this is exactly equal to use of $(X\\otimes I) U_{CNOT} (X\\otimes I)$ "
   ]
  },
  {
   "cell_type": "markdown",
   "metadata": {},
   "source": [
    "## The following cell create a random 'Constant' or 'Balanced' function"
   ]
  },
  {
   "cell_type": "code",
   "execution_count": 8,
   "metadata": {},
   "outputs": [],
   "source": [
    "import random as rm\n",
    "import numpy as np"
   ]
  },
  {
   "cell_type": "code",
   "execution_count": 9,
   "metadata": {},
   "outputs": [],
   "source": [
    "# This cell make\n",
    "def func():\n",
    "    f = []        # list \n",
    "    k = ['b','c'] # b(c) denotes Balanced(Constant) \n",
    "    decide = rm.choice(k)\n",
    "    if decide == 'c':\n",
    "        a = rm.randint(0,1)\n",
    "        for i in range(2):\n",
    "            f.append(a)\n",
    "    else:\n",
    "        a = rm.randint(0,1)\n",
    "        f.append(a)\n",
    "        if a == 0:\n",
    "            f.append(1)\n",
    "        else:\n",
    "            f.append(0)\n",
    "    return f"
   ]
  },
  {
   "cell_type": "code",
   "execution_count": 10,
   "metadata": {},
   "outputs": [
    {
     "data": {
      "text/plain": [
       "[0, 1]"
      ]
     },
     "execution_count": 10,
     "metadata": {},
     "output_type": "execute_result"
    }
   ],
   "source": [
    "f = func()\n",
    "f"
   ]
  },
  {
   "cell_type": "code",
   "execution_count": 11,
   "metadata": {},
   "outputs": [
    {
     "data": {
      "image/png": "[encoded data removed]",
      "text/plain": [
       "<Figure size 548.991x198.994 with 1 Axes>"
      ]
     },
     "metadata": {},
     "output_type": "display_data"
    },
    {
     "data": {
      "text/latex": [
       "$$\\frac{1}{2} |00\\rangle- \\frac{1}{2} |01\\rangle- \\frac{1}{2} |10\\rangle+\\frac{1}{2} |11\\rangle$$"
      ],
      "text/plain": [
       "<IPython.core.display.Latex object>"
      ]
     },
     "metadata": {},
     "output_type": "display_data"
    }
   ],
   "source": [
    "for i in range(2):\n",
    "    if f[i] == 1 and i != 1:\n",
    "        qc.x([0])\n",
    "        qc.cx([0],[1])\n",
    "        qc.x([0])\n",
    "    elif f[i] == 1 and i == 1:\n",
    "        qc.cx([0],[1])\n",
    "\n",
    "qc.barrier()\n",
    "display(cplot(qc),splot(qc))"
   ]
  },
  {
   "cell_type": "code",
   "execution_count": 12,
   "metadata": {},
   "outputs": [
    {
     "data": {
      "image/png": "[encoded data removed]",
      "text/plain": [
       "<Figure size 724.574x198.994 with 1 Axes>"
      ]
     },
     "execution_count": 12,
     "metadata": {},
     "output_type": "execute_result"
    }
   ],
   "source": [
    "qc.h(q[0])\n",
    "qc.barrier()\n",
    "qc.measure(q[0],0)\n",
    "cplot(qc)"
   ]
  },
  {
   "cell_type": "code",
   "execution_count": 13,
   "metadata": {},
   "outputs": [],
   "source": [
    "from qiskit import transpile\n",
    "from qiskit.visualization import plot_histogram\n",
    "from qiskit.providers.aer import QasmSimulator"
   ]
  },
  {
   "cell_type": "code",
   "execution_count": 17,
   "metadata": {},
   "outputs": [
    {
     "data": {
      "image/png": "[encoded data removed]",
      "text/plain": [
       "<Figure size 700x500 with 1 Axes>"
      ]
     },
     "execution_count": 17,
     "metadata": {},
     "output_type": "execute_result"
    }
   ],
   "source": [
    "result = QasmSimulator().run(transpile(qc,QasmSimulator()),shots=1024).result()\n",
    "count = result.get_counts()\n",
    "plot_histogram(count)"
   ]
  },
  {
   "cell_type": "code",
   "execution_count": 18,
   "metadata": {},
   "outputs": [
    {
     "data": {
      "text/plain": [
       "[0, 1]"
      ]
     },
     "execution_count": 18,
     "metadata": {},
     "output_type": "execute_result"
    }
   ],
   "source": [
    "f"
   ]
  },
  {
   "cell_type": "code",
   "execution_count": null,
   "metadata": {},
   "outputs": [],
   "source": []
  }
 ],
 "metadata": {
  "celltoolbar": "Raw Cell Format",
  "kernelspec": {
   "display_name": "Python 3 (ipykernel)",
   "language": "python",
   "name": "python3"
  },
  "language_info": {
   "codemirror_mode": {
    "name": "ipython",
    "version": 3
   },
   "file_extension": ".py",
   "mimetype": "text/x-python",
   "name": "python",
   "nbconvert_exporter": "python",
   "pygments_lexer": "ipython3",
   "version": "3.10.6"
  }
 },
 "nbformat": 4,
 "nbformat_minor": 4
}
